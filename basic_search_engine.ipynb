{
  "cells": [
    {
      "cell_type": "markdown",
      "metadata": {
        "id": "view-in-github",
        "colab_type": "text"
      },
      "source": [
        "<a href=\"https://colab.research.google.com/github/nelslindahlx/Random-Notebooks/blob/master/basic_search_engine.ipynb\" target=\"_parent\"><img src=\"https://colab.research.google.com/assets/colab-badge.svg\" alt=\"Open In Colab\"/></a>"
      ]
    },
    {
      "cell_type": "markdown",
      "id": "48c211f0",
      "metadata": {
        "id": "48c211f0"
      },
      "source": [
        "# Basic Search Engine in Google Colab\n",
        "This notebook demonstrates how to build a basic search engine using a small dataset of documents. We will preprocess the documents, build an inverted index, and implement search functionality."
      ]
    },
    {
      "cell_type": "code",
      "execution_count": 2,
      "id": "e3e2ea1e",
      "metadata": {
        "colab": {
          "base_uri": "https://localhost:8080/"
        },
        "id": "e3e2ea1e",
        "outputId": "e0e67100-f28f-4da5-bbdf-f33156d71f79"
      },
      "outputs": [
        {
          "output_type": "stream",
          "name": "stderr",
          "text": [
            "[nltk_data] Downloading package punkt to /root/nltk_data...\n",
            "[nltk_data]   Package punkt is already up-to-date!\n",
            "[nltk_data] Downloading package stopwords to /root/nltk_data...\n",
            "[nltk_data]   Package stopwords is already up-to-date!\n"
          ]
        },
        {
          "output_type": "execute_result",
          "data": {
            "text/plain": [
              "True"
            ]
          },
          "metadata": {},
          "execution_count": 2
        }
      ],
      "source": [
        "# Import necessary libraries\n",
        "import nltk\n",
        "from nltk.tokenize import word_tokenize\n",
        "from nltk.corpus import stopwords\n",
        "from collections import defaultdict\n",
        "import string\n",
        "nltk.download('punkt')\n",
        "nltk.download('stopwords')"
      ]
    },
    {
      "cell_type": "markdown",
      "id": "c2df8df9",
      "metadata": {
        "id": "c2df8df9"
      },
      "source": [
        "## Sample Documents\n",
        "We will use a small set of documents for this demonstration."
      ]
    },
    {
      "cell_type": "code",
      "execution_count": 3,
      "id": "469080b6",
      "metadata": {
        "id": "469080b6"
      },
      "outputs": [],
      "source": [
        "# Sample documents\n",
        "documents = {\n",
        "    1: 'The quick brown fox jumps over the lazy dog',\n",
        "    2: 'Never jump over the lazy dog quickly',\n",
        "    3: 'Bright sunny day with clear blue sky',\n",
        "    4: 'The quick brown fox and the bright blue sky',\n",
        "}"
      ]
    },
    {
      "cell_type": "markdown",
      "id": "589dafc7",
      "metadata": {
        "id": "589dafc7"
      },
      "source": [
        "## Preprocess the Documents\n",
        "We will tokenize the documents, remove stopwords, and punctuation."
      ]
    },
    {
      "cell_type": "code",
      "execution_count": 4,
      "id": "fd92eadf",
      "metadata": {
        "colab": {
          "base_uri": "https://localhost:8080/"
        },
        "id": "fd92eadf",
        "outputId": "f62959cb-a553-4e9c-899c-f7e714ceb6dc"
      },
      "outputs": [
        {
          "output_type": "stream",
          "name": "stdout",
          "text": [
            "Processed Documents:\n",
            "{1: ['quick', 'brown', 'fox', 'jumps', 'lazy', 'dog'], 2: ['never', 'jump', 'lazy', 'dog', 'quickly'], 3: ['bright', 'sunny', 'day', 'clear', 'blue', 'sky'], 4: ['quick', 'brown', 'fox', 'bright', 'blue', 'sky']}\n"
          ]
        }
      ],
      "source": [
        "# Preprocess documents\n",
        "stop_words = set(stopwords.words('english'))\n",
        "def preprocess(text):\n",
        "    tokens = word_tokenize(text.lower())\n",
        "    tokens = [word for word in tokens if word.isalpha()]\n",
        "    tokens = [word for word in tokens if word not in stop_words]\n",
        "    return tokens\n",
        "\n",
        "# Preprocess all documents\n",
        "processed_docs = {doc_id: preprocess(text) for doc_id, text in documents.items()}\n",
        "print('Processed Documents:')\n",
        "print(processed_docs)"
      ]
    },
    {
      "cell_type": "markdown",
      "id": "2ce8c430",
      "metadata": {
        "id": "2ce8c430"
      },
      "source": [
        "## Build an Inverted Index\n",
        "An inverted index maps words to the documents that contain them."
      ]
    },
    {
      "cell_type": "code",
      "execution_count": 5,
      "id": "ed9fc143",
      "metadata": {
        "colab": {
          "base_uri": "https://localhost:8080/"
        },
        "id": "ed9fc143",
        "outputId": "a26af78f-b9b7-458e-981a-614eb569c06d"
      },
      "outputs": [
        {
          "output_type": "stream",
          "name": "stdout",
          "text": [
            "Inverted Index:\n",
            "{'quick': [1, 4], 'brown': [1, 4], 'fox': [1, 4], 'jumps': [1], 'lazy': [1, 2], 'dog': [1, 2], 'never': [2], 'jump': [2], 'quickly': [2], 'bright': [3, 4], 'sunny': [3], 'day': [3], 'clear': [3], 'blue': [3, 4], 'sky': [3, 4]}\n"
          ]
        }
      ],
      "source": [
        "# Build an inverted index\n",
        "inverted_index = defaultdict(list)\n",
        "\n",
        "for doc_id, tokens in processed_docs.items():\n",
        "    for token in tokens:\n",
        "        if doc_id not in inverted_index[token]:\n",
        "            inverted_index[token].append(doc_id)\n",
        "\n",
        "print('Inverted Index:')\n",
        "print(dict(inverted_index))"
      ]
    },
    {
      "cell_type": "markdown",
      "id": "a54fe432",
      "metadata": {
        "id": "a54fe432"
      },
      "source": [
        "## Search Functionality\n",
        "Implement a simple search function that returns documents containing the search query."
      ]
    },
    {
      "cell_type": "code",
      "execution_count": 6,
      "id": "6eaed6a6",
      "metadata": {
        "colab": {
          "base_uri": "https://localhost:8080/"
        },
        "id": "6eaed6a6",
        "outputId": "f9649931-bce3-4219-9053-a0e55b1e76c4"
      },
      "outputs": [
        {
          "output_type": "stream",
          "name": "stdout",
          "text": [
            "Documents containing 'quick fox': {1, 4}\n"
          ]
        }
      ],
      "source": [
        "# Search function\n",
        "def search(query):\n",
        "    query_tokens = preprocess(query)\n",
        "    results = set()\n",
        "    for token in query_tokens:\n",
        "        if token in inverted_index:\n",
        "            results.update(inverted_index[token])\n",
        "    return results\n",
        "\n",
        "# Test the search function\n",
        "query = 'quick fox'\n",
        "result_docs = search(query)\n",
        "print(f\"Documents containing '{query}': {result_docs}\")"
      ]
    }
  ],
  "metadata": {
    "colab": {
      "provenance": [],
      "include_colab_link": true
    },
    "language_info": {
      "name": "python"
    },
    "kernelspec": {
      "name": "python3",
      "display_name": "Python 3"
    }
  },
  "nbformat": 4,
  "nbformat_minor": 5
}