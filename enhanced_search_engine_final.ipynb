{
  "cells": [
    {
      "cell_type": "markdown",
      "metadata": {
        "id": "view-in-github",
        "colab_type": "text"
      },
      "source": [
        "<a href=\"https://colab.research.google.com/github/nelslindahlx/Random-Notebooks/blob/master/enhanced_search_engine_final.ipynb\" target=\"_parent\"><img src=\"https://colab.research.google.com/assets/colab-badge.svg\" alt=\"Open In Colab\"/></a>"
      ]
    },
    {
      "cell_type": "markdown",
      "id": "005f0487",
      "metadata": {
        "id": "005f0487"
      },
      "source": [
        "# Enhanced Search Engine in Google Colab\n",
        "This notebook demonstrates how to build an enhanced search engine using a small dataset of documents. We will preprocess the documents, build an inverted index and a TF-IDF matrix, and implement search functionality with ranking."
      ]
    },
    {
      "cell_type": "code",
      "execution_count": 1,
      "id": "81519aff",
      "metadata": {
        "colab": {
          "base_uri": "https://localhost:8080/"
        },
        "id": "81519aff",
        "outputId": "f31ad792-a09f-4189-fa69-6b7420f5eb94"
      },
      "outputs": [
        {
          "output_type": "stream",
          "name": "stderr",
          "text": [
            "[nltk_data] Downloading package punkt to /root/nltk_data...\n",
            "[nltk_data]   Unzipping tokenizers/punkt.zip.\n",
            "[nltk_data] Downloading package stopwords to /root/nltk_data...\n",
            "[nltk_data]   Unzipping corpora/stopwords.zip.\n",
            "[nltk_data] Downloading package wordnet to /root/nltk_data...\n",
            "[nltk_data] Downloading package omw-1.4 to /root/nltk_data...\n"
          ]
        },
        {
          "output_type": "execute_result",
          "data": {
            "text/plain": [
              "True"
            ]
          },
          "metadata": {},
          "execution_count": 1
        }
      ],
      "source": [
        "# Import necessary libraries\n",
        "import nltk\n",
        "from nltk.tokenize import word_tokenize\n",
        "from nltk.corpus import stopwords\n",
        "from nltk.stem import WordNetLemmatizer\n",
        "from collections import defaultdict\n",
        "from sklearn.feature_extraction.text import TfidfVectorizer\n",
        "from sklearn.metrics.pairwise import cosine_similarity\n",
        "import numpy as np\n",
        "import string\n",
        "nltk.download('punkt')\n",
        "nltk.download('stopwords')\n",
        "nltk.download('wordnet')\n",
        "nltk.download('omw-1.4')"
      ]
    },
    {
      "cell_type": "markdown",
      "id": "6007c406",
      "metadata": {
        "id": "6007c406"
      },
      "source": [
        "## Sample Documents\n",
        "We will use a small set of documents for this demonstration."
      ]
    },
    {
      "cell_type": "code",
      "execution_count": 2,
      "id": "7e38e02e",
      "metadata": {
        "id": "7e38e02e"
      },
      "outputs": [],
      "source": [
        "# Sample documents\n",
        "documents = {\n",
        "    1: 'The quick brown fox jumps over the lazy dog',\n",
        "    2: 'Never jump over the lazy dog quickly',\n",
        "    3: 'Bright sunny day with clear blue sky',\n",
        "    4: 'The quick brown fox and the bright blue sky',\n",
        "}"
      ]
    },
    {
      "cell_type": "markdown",
      "id": "fb9117ce",
      "metadata": {
        "id": "fb9117ce"
      },
      "source": [
        "## Advanced Preprocessing\n",
        "We will tokenize the documents, remove stopwords, punctuation, and lemmatize the words."
      ]
    },
    {
      "cell_type": "code",
      "execution_count": 3,
      "id": "d246816e",
      "metadata": {
        "colab": {
          "base_uri": "https://localhost:8080/"
        },
        "id": "d246816e",
        "outputId": "8a85a6e2-0827-4401-a7bd-5edfbf213bce"
      },
      "outputs": [
        {
          "output_type": "stream",
          "name": "stdout",
          "text": [
            "Processed Documents:\n",
            "{1: ['quick', 'brown', 'fox', 'jump', 'lazy', 'dog'], 2: ['never', 'jump', 'lazy', 'dog', 'quickly'], 3: ['bright', 'sunny', 'day', 'clear', 'blue', 'sky'], 4: ['quick', 'brown', 'fox', 'bright', 'blue', 'sky']}\n"
          ]
        }
      ],
      "source": [
        "# Advanced preprocess documents\n",
        "stop_words = set(stopwords.words('english'))\n",
        "lemmatizer = WordNetLemmatizer()\n",
        "def preprocess(text):\n",
        "    tokens = word_tokenize(text.lower())\n",
        "    tokens = [word for word in tokens if word.isalpha()]\n",
        "    tokens = [word for word in tokens if word not in stop_words]\n",
        "    tokens = [lemmatizer.lemmatize(word) for word in tokens]\n",
        "    return tokens\n",
        "\n",
        "# Preprocess all documents\n",
        "processed_docs = {doc_id: preprocess(text) for doc_id, text in documents.items()}\n",
        "print('Processed Documents:')\n",
        "print(processed_docs)"
      ]
    },
    {
      "cell_type": "markdown",
      "id": "c48d63df",
      "metadata": {
        "id": "c48d63df"
      },
      "source": [
        "## Build an Inverted Index and TF-IDF Matrix\n",
        "We will build an inverted index and also create a TF-IDF matrix."
      ]
    },
    {
      "cell_type": "code",
      "execution_count": 4,
      "id": "b439b874",
      "metadata": {
        "colab": {
          "base_uri": "https://localhost:8080/"
        },
        "id": "b439b874",
        "outputId": "8c10ca4a-bf36-436c-a331-adc1f8e69158"
      },
      "outputs": [
        {
          "output_type": "stream",
          "name": "stdout",
          "text": [
            "Inverted Index:\n",
            "{'quick': [1, 4], 'brown': [1, 4], 'fox': [1, 4], 'jump': [1, 2], 'lazy': [1, 2], 'dog': [1, 2], 'never': [2], 'quickly': [2], 'bright': [3, 4], 'sunny': [3], 'day': [3], 'clear': [3], 'blue': [3, 4], 'sky': [3, 4]}\n",
            "\n",
            "TF-IDF Matrix:\n",
            "[[0.         0.         0.40824829 0.         0.         0.40824829\n",
            "  0.40824829 0.40824829 0.40824829 0.         0.40824829 0.\n",
            "  0.         0.        ]\n",
            " [0.         0.         0.         0.         0.         0.40104275\n",
            "  0.         0.40104275 0.40104275 0.50867187 0.         0.50867187\n",
            "  0.         0.        ]\n",
            " [0.35745504 0.35745504 0.         0.4533864  0.4533864  0.\n",
            "  0.         0.         0.         0.         0.         0.\n",
            "  0.35745504 0.4533864 ]\n",
            " [0.40824829 0.40824829 0.40824829 0.         0.         0.\n",
            "  0.40824829 0.         0.         0.         0.40824829 0.\n",
            "  0.40824829 0.        ]]\n"
          ]
        }
      ],
      "source": [
        "# Build an inverted index\n",
        "inverted_index = defaultdict(list)\n",
        "\n",
        "for doc_id, tokens in processed_docs.items():\n",
        "    for token in tokens:\n",
        "        if doc_id not in inverted_index[token]:\n",
        "            inverted_index[token].append(doc_id)\n",
        "\n",
        "# Build the TF-IDF matrix\n",
        "corpus = [' '.join(tokens) for tokens in processed_docs.values()]\n",
        "vectorizer = TfidfVectorizer()\n",
        "tfidf_matrix = vectorizer.fit_transform(corpus)\n",
        "\n",
        "print('Inverted Index:')\n",
        "print(dict(inverted_index))\n",
        "print('\\nTF-IDF Matrix:')\n",
        "print(tfidf_matrix.toarray())"
      ]
    },
    {
      "cell_type": "markdown",
      "id": "a9ef7cdf",
      "metadata": {
        "id": "a9ef7cdf"
      },
      "source": [
        "## Search Functionality with Improved Ranking\n",
        "Implement a search function that uses TF-IDF and cosine similarity to rank results, handling multi-word phrases."
      ]
    },
    {
      "cell_type": "code",
      "execution_count": 5,
      "id": "9263a098",
      "metadata": {
        "colab": {
          "base_uri": "https://localhost:8080/"
        },
        "id": "9263a098",
        "outputId": "6aaa7535-783a-478c-c517-b1da457a92d6"
      },
      "outputs": [
        {
          "output_type": "stream",
          "name": "stdout",
          "text": [
            "Ranked documents for query 'quick fox': [(1, 0.5773502691896258), (4, 0.5773502691896258)]\n"
          ]
        }
      ],
      "source": [
        "# Search function with improved ranking\n",
        "def search(query):\n",
        "    query_tokens = preprocess(query)\n",
        "    query_vec = vectorizer.transform([' '.join(query_tokens)])\n",
        "    cosine_similarities = cosine_similarity(query_vec, tfidf_matrix).flatten()\n",
        "    ranked_docs = np.argsort(-cosine_similarities)\n",
        "\n",
        "    results = []\n",
        "    for doc_index in ranked_docs:\n",
        "        if cosine_similarities[doc_index] > 0:\n",
        "            doc_id = list(documents.keys())[doc_index]\n",
        "            results.append((doc_id, cosine_similarities[doc_index]))\n",
        "\n",
        "    return results\n",
        "\n",
        "# Test the search function\n",
        "query = 'quick fox'\n",
        "result_docs = search(query)\n",
        "print(f\"Ranked documents for query '{query}': {result_docs}\")"
      ]
    }
  ],
  "metadata": {
    "colab": {
      "provenance": [],
      "include_colab_link": true
    },
    "language_info": {
      "name": "python"
    },
    "kernelspec": {
      "name": "python3",
      "display_name": "Python 3"
    }
  },
  "nbformat": 4,
  "nbformat_minor": 5
}