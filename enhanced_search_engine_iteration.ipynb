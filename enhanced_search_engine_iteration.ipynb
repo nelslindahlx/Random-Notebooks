{
  "cells": [
    {
      "cell_type": "markdown",
      "metadata": {
        "id": "view-in-github",
        "colab_type": "text"
      },
      "source": [
        "<a href=\"https://colab.research.google.com/github/nelslindahlx/Random-Notebooks/blob/master/enhanced_search_engine_iteration.ipynb\" target=\"_parent\"><img src=\"https://colab.research.google.com/assets/colab-badge.svg\" alt=\"Open In Colab\"/></a>"
      ]
    },
    {
      "cell_type": "markdown",
      "id": "1a7dd570",
      "metadata": {
        "id": "1a7dd570"
      },
      "source": [
        "# Enhanced Search Engine in Google Colab\n",
        "This notebook demonstrates how to build an enhanced search engine using a small dataset of documents. We will preprocess the documents, build an inverted index and a TF-IDF matrix, and implement search functionality with ranking."
      ]
    },
    {
      "cell_type": "code",
      "execution_count": 1,
      "id": "4fa7dd07",
      "metadata": {
        "colab": {
          "base_uri": "https://localhost:8080/"
        },
        "id": "4fa7dd07",
        "outputId": "e4fc3664-f65a-40f2-90a8-8d0d9d03a6fe"
      },
      "outputs": [
        {
          "output_type": "stream",
          "name": "stderr",
          "text": [
            "[nltk_data] Downloading package punkt to /root/nltk_data...\n",
            "[nltk_data]   Unzipping tokenizers/punkt.zip.\n",
            "[nltk_data] Downloading package stopwords to /root/nltk_data...\n",
            "[nltk_data]   Unzipping corpora/stopwords.zip.\n"
          ]
        },
        {
          "output_type": "execute_result",
          "data": {
            "text/plain": [
              "True"
            ]
          },
          "metadata": {},
          "execution_count": 1
        }
      ],
      "source": [
        "# Import necessary libraries\n",
        "import nltk\n",
        "from nltk.tokenize import word_tokenize\n",
        "from nltk.corpus import stopwords\n",
        "from collections import defaultdict\n",
        "from sklearn.feature_extraction.text import TfidfVectorizer\n",
        "from sklearn.metrics.pairwise import cosine_similarity\n",
        "import numpy as np\n",
        "import string\n",
        "nltk.download('punkt')\n",
        "nltk.download('stopwords')"
      ]
    },
    {
      "cell_type": "markdown",
      "id": "852db9a1",
      "metadata": {
        "id": "852db9a1"
      },
      "source": [
        "## Sample Documents\n",
        "We will use a small set of documents for this demonstration."
      ]
    },
    {
      "cell_type": "code",
      "execution_count": 2,
      "id": "42ace812",
      "metadata": {
        "id": "42ace812"
      },
      "outputs": [],
      "source": [
        "# Sample documents\n",
        "documents = {\n",
        "    1: 'The quick brown fox jumps over the lazy dog',\n",
        "    2: 'Never jump over the lazy dog quickly',\n",
        "    3: 'Bright sunny day with clear blue sky',\n",
        "    4: 'The quick brown fox and the bright blue sky',\n",
        "}"
      ]
    },
    {
      "cell_type": "markdown",
      "id": "6827e955",
      "metadata": {
        "id": "6827e955"
      },
      "source": [
        "## Preprocess the Documents\n",
        "We will tokenize the documents, remove stopwords, and punctuation."
      ]
    },
    {
      "cell_type": "code",
      "execution_count": 3,
      "id": "b9235d19",
      "metadata": {
        "colab": {
          "base_uri": "https://localhost:8080/"
        },
        "id": "b9235d19",
        "outputId": "6fb4c357-7a87-4bdb-93af-125b1263d916"
      },
      "outputs": [
        {
          "output_type": "stream",
          "name": "stdout",
          "text": [
            "Processed Documents:\n",
            "{1: ['quick', 'brown', 'fox', 'jumps', 'lazy', 'dog'], 2: ['never', 'jump', 'lazy', 'dog', 'quickly'], 3: ['bright', 'sunny', 'day', 'clear', 'blue', 'sky'], 4: ['quick', 'brown', 'fox', 'bright', 'blue', 'sky']}\n"
          ]
        }
      ],
      "source": [
        "# Preprocess documents\n",
        "stop_words = set(stopwords.words('english'))\n",
        "def preprocess(text):\n",
        "    tokens = word_tokenize(text.lower())\n",
        "    tokens = [word for word in tokens if word.isalpha()]\n",
        "    tokens = [word for word in tokens if word not in stop_words]\n",
        "    return tokens\n",
        "\n",
        "# Preprocess all documents\n",
        "processed_docs = {doc_id: preprocess(text) for doc_id, text in documents.items()}\n",
        "print('Processed Documents:')\n",
        "print(processed_docs)"
      ]
    },
    {
      "cell_type": "markdown",
      "id": "719fb844",
      "metadata": {
        "id": "719fb844"
      },
      "source": [
        "## Build an Inverted Index and TF-IDF Matrix\n",
        "We will build an inverted index and also create a TF-IDF matrix."
      ]
    },
    {
      "cell_type": "code",
      "execution_count": 4,
      "id": "0e5eb1ad",
      "metadata": {
        "colab": {
          "base_uri": "https://localhost:8080/"
        },
        "id": "0e5eb1ad",
        "outputId": "985e95e1-34ae-4cce-a903-ff4e67332872"
      },
      "outputs": [
        {
          "output_type": "stream",
          "name": "stdout",
          "text": [
            "Inverted Index:\n",
            "{'quick': [1, 4], 'brown': [1, 4], 'fox': [1, 4], 'jumps': [1], 'lazy': [1, 2], 'dog': [1, 2], 'never': [2], 'jump': [2], 'quickly': [2], 'bright': [3, 4], 'sunny': [3], 'day': [3], 'clear': [3], 'blue': [3, 4], 'sky': [3, 4]}\n",
            "\n",
            "TF-IDF Matrix:\n",
            "[[0.         0.         0.3889911  0.         0.         0.3889911\n",
            "  0.3889911  0.         0.49338588 0.3889911  0.         0.3889911\n",
            "  0.         0.         0.        ]\n",
            " [0.         0.         0.         0.         0.         0.38274272\n",
            "  0.         0.48546061 0.         0.38274272 0.48546061 0.\n",
            "  0.48546061 0.         0.        ]\n",
            " [0.35745504 0.35745504 0.         0.4533864  0.4533864  0.\n",
            "  0.         0.         0.         0.         0.         0.\n",
            "  0.         0.35745504 0.4533864 ]\n",
            " [0.40824829 0.40824829 0.40824829 0.         0.         0.\n",
            "  0.40824829 0.         0.         0.         0.         0.40824829\n",
            "  0.         0.40824829 0.        ]]\n"
          ]
        }
      ],
      "source": [
        "# Build an inverted index\n",
        "inverted_index = defaultdict(list)\n",
        "\n",
        "for doc_id, tokens in processed_docs.items():\n",
        "    for token in tokens:\n",
        "        if doc_id not in inverted_index[token]:\n",
        "            inverted_index[token].append(doc_id)\n",
        "\n",
        "# Build the TF-IDF matrix\n",
        "corpus = [' '.join(tokens) for tokens in processed_docs.values()]\n",
        "vectorizer = TfidfVectorizer()\n",
        "tfidf_matrix = vectorizer.fit_transform(corpus)\n",
        "\n",
        "print('Inverted Index:')\n",
        "print(dict(inverted_index))\n",
        "print('\\nTF-IDF Matrix:')\n",
        "print(tfidf_matrix.toarray())"
      ]
    },
    {
      "cell_type": "markdown",
      "id": "8dca5238",
      "metadata": {
        "id": "8dca5238"
      },
      "source": [
        "## Search Functionality with Ranking\n",
        "Implement a search function that uses TF-IDF and cosine similarity to rank results."
      ]
    },
    {
      "cell_type": "code",
      "execution_count": 5,
      "id": "c5b6dccd",
      "metadata": {
        "colab": {
          "base_uri": "https://localhost:8080/"
        },
        "id": "c5b6dccd",
        "outputId": "c4645e3c-dc69-44b2-e759-849f3fb92400"
      },
      "outputs": [
        {
          "output_type": "stream",
          "name": "stdout",
          "text": [
            "Ranked documents for query 'quick fox': [(4, 0.5773502691896258), (1, 0.5501164858565948)]\n"
          ]
        }
      ],
      "source": [
        "# Search function with ranking\n",
        "def search(query):\n",
        "    query_tokens = preprocess(query)\n",
        "    query_vec = vectorizer.transform([' '.join(query_tokens)])\n",
        "    cosine_similarities = cosine_similarity(query_vec, tfidf_matrix).flatten()\n",
        "    ranked_docs = np.argsort(-cosine_similarities)\n",
        "\n",
        "    results = []\n",
        "    for doc_index in ranked_docs:\n",
        "        if cosine_similarities[doc_index] > 0:\n",
        "            doc_id = list(documents.keys())[doc_index]\n",
        "            results.append((doc_id, cosine_similarities[doc_index]))\n",
        "\n",
        "    return results\n",
        "\n",
        "# Test the search function\n",
        "query = 'quick fox'\n",
        "result_docs = search(query)\n",
        "print(f\"Ranked documents for query '{query}': {result_docs}\")"
      ]
    }
  ],
  "metadata": {
    "colab": {
      "provenance": [],
      "include_colab_link": true
    },
    "language_info": {
      "name": "python"
    },
    "kernelspec": {
      "name": "python3",
      "display_name": "Python 3"
    }
  },
  "nbformat": 4,
  "nbformat_minor": 5
}