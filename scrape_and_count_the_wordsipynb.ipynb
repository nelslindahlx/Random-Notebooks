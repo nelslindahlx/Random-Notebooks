{
  "nbformat": 4,
  "nbformat_minor": 0,
  "metadata": {
    "colab": {
      "provenance": [],
      "authorship_tag": "ABX9TyPAiOvVDwcaEzt44M44AESQ",
      "include_colab_link": true
    },
    "kernelspec": {
      "name": "python3",
      "display_name": "Python 3"
    },
    "language_info": {
      "name": "python"
    }
  },
  "cells": [
    {
      "cell_type": "markdown",
      "metadata": {
        "id": "view-in-github",
        "colab_type": "text"
      },
      "source": [
        "<a href=\"https://colab.research.google.com/github/nelslindahlx/Random-Notebooks/blob/master/scrape_and_count_the_wordsipynb.ipynb\" target=\"_parent\"><img src=\"https://colab.research.google.com/assets/colab-badge.svg\" alt=\"Open In Colab\"/></a>"
      ]
    },
    {
      "cell_type": "code",
      "execution_count": 5,
      "metadata": {
        "colab": {
          "base_uri": "https://localhost:8080/"
        },
        "id": "NS9NwWIFOXQV",
        "outputId": "38ff1acd-808c-4cc5-819b-bd708f1de851"
      },
      "outputs": [
        {
          "output_type": "stream",
          "name": "stdout",
          "text": [
            "2228\n"
          ]
        }
      ],
      "source": [
        "# prompt: scrape www.nelslindahl.com and count the words\n",
        "\n",
        "import requests\n",
        "\n",
        "url = 'https://www.nelslindahl.com/'\n",
        "\n",
        "response = requests.get(url)\n",
        "\n",
        "#print(response.content)\n",
        "\n",
        "words = response.content.split()\n",
        "\n",
        "print(len(words))\n"
      ]
    }
  ]
}