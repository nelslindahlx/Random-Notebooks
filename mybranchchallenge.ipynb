{
  "nbformat": 4,
  "nbformat_minor": 0,
  "metadata": {
    "colab": {
      "name": "mybranchchallenge.ipynb",
      "provenance": [],
      "authorship_tag": "ABX9TyPJTLxLQ7CQnOhUZ1DwVjaS",
      "include_colab_link": true
    },
    "kernelspec": {
      "name": "python3",
      "display_name": "Python 3"
    }
  },
  "cells": [
    {
      "cell_type": "markdown",
      "metadata": {
        "id": "view-in-github",
        "colab_type": "text"
      },
      "source": [
        "<a href=\"https://colab.research.google.com/github/nelslindahlx/Random-Notebooks/blob/master/mybranchchallenge.ipynb\" target=\"_parent\"><img src=\"https://colab.research.google.com/assets/colab-badge.svg\" alt=\"Open In Colab\"/></a>"
      ]
    },
    {
      "cell_type": "markdown",
      "metadata": {
        "id": "MWUePb4FeBrQ"
      },
      "source": [
        "Messing around with branching"
      ]
    },
    {
      "cell_type": "code",
      "metadata": {
        "id": "4g9HXJBed3fl",
        "outputId": "02ecca9a-c77d-4923-eae7-a436f17c415b",
        "colab": {
          "base_uri": "https://localhost:8080/",
          "height": 50
        }
      },
      "source": [
        "value = input('Would you like to move forward? ')\n",
        "\n",
        "if value == 'y' or value == 'yes':\n",
        "    print('Moving ...')\n",
        "    print('Complete!')\n",
        "elif value == 'n' or value == 'no':\n",
        "    print('Stopping')\n",
        "else:\n",
        "    print('Hint: Please try again and respond with yes or no.')"
      ],
      "execution_count": 2,
      "outputs": [
        {
          "output_type": "stream",
          "text": [
            "Would you like to move forward? dog\n",
            "Hint: Please try again and respond with yes or no.\n"
          ],
          "name": "stdout"
        }
      ]
    }
  ]
}