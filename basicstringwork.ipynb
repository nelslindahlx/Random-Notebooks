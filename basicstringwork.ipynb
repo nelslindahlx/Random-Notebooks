{
  "nbformat": 4,
  "nbformat_minor": 0,
  "metadata": {
    "colab": {
      "name": "basicstringwork.ipynb",
      "provenance": [],
      "authorship_tag": "ABX9TyMPd6vNuegLsbRGyXRnYNGw",
      "include_colab_link": true
    },
    "kernelspec": {
      "name": "python3",
      "display_name": "Python 3"
    }
  },
  "cells": [
    {
      "cell_type": "markdown",
      "metadata": {
        "id": "view-in-github",
        "colab_type": "text"
      },
      "source": [
        "<a href=\"https://colab.research.google.com/github/nelslindahlx/Random-Notebooks/blob/master/basicstringwork.ipynb\" target=\"_parent\"><img src=\"https://colab.research.google.com/assets/colab-badge.svg\" alt=\"Open In Colab\"/></a>"
      ]
    },
    {
      "cell_type": "markdown",
      "metadata": {
        "id": "gg45h9WT22Gv"
      },
      "source": [
        "messing around with strings"
      ]
    },
    {
      "cell_type": "code",
      "metadata": {
        "id": "i_qbFuhE2STB",
        "outputId": "5d6aeba6-10db-4f18-89c5-33686b5be2cc",
        "colab": {
          "base_uri": "https://localhost:8080/"
        }
      },
      "source": [
        "first_string = 'My first  literal string'\n",
        "second_string = \"My second literal string\"\n",
        "print(second_string == first_string)"
      ],
      "execution_count": 3,
      "outputs": [
        {
          "output_type": "stream",
          "text": [
            "False\n"
          ],
          "name": "stdout"
        }
      ]
    },
    {
      "cell_type": "markdown",
      "metadata": {
        "id": "gZ6GrP263Vtc"
      },
      "source": [
        "quotes inside other quotes"
      ]
    },
    {
      "cell_type": "code",
      "metadata": {
        "id": "4houDylY3NP0",
        "outputId": "97ccb8b2-2440-4411-9a64-2919999f6fe4",
        "colab": {
          "base_uri": "https://localhost:8080/"
        }
      },
      "source": [
        "third_string = 'A single quoted literal string with a \" double quote'\n",
        "fourth_string = \"A double quoted literal string with a ' single quote\"\n",
        "print(third_string)\n",
        "print(fourth_string)"
      ],
      "execution_count": 4,
      "outputs": [
        {
          "output_type": "stream",
          "text": [
            "A single quoted literal string with a \" double quote\n",
            "A double quoted literal string with a ' single quote\n"
          ],
          "name": "stdout"
        }
      ]
    },
    {
      "cell_type": "markdown",
      "metadata": {
        "id": "bX-GMOn93e-c"
      },
      "source": [
        "escape sequences"
      ]
    },
    {
      "cell_type": "code",
      "metadata": {
        "id": "tZSLiH4g3SWl",
        "outputId": "d7f835ce-3169-491e-8ccc-251b8c07a8b6",
        "colab": {
          "base_uri": "https://localhost:8080/"
        }
      },
      "source": [
        "fifth_string = 'A single quoted literal string with an \\' escaped single quote'\n",
        "sixth_string = \"A double quoted literal string with a \\\" double quote\"\n",
        "seventh_string = 'A literal string with a \\n new line character'\n",
        "eighth_string = 'A literal string with a \\t tab character'\n",
        "\n",
        "print(fifth_string)\n",
        "print(sixth_string)\n",
        "print(seventh_string)\n",
        "print(eighth_string)"
      ],
      "execution_count": 5,
      "outputs": [
        {
          "output_type": "stream",
          "text": [
            "A single quoted literal string with an ' escaped single quote\n",
            "A double quoted literal string with a \" double quote\n",
            "A literal string with a \n",
            " new line character\n",
            "A literal string with a \t tab character\n"
          ],
          "name": "stdout"
        }
      ]
    },
    {
      "cell_type": "markdown",
      "metadata": {
        "id": "1wZ7d2r43oiZ"
      },
      "source": [
        "raw strings"
      ]
    },
    {
      "cell_type": "code",
      "metadata": {
        "id": "zIxKYuR53i9N",
        "outputId": "d3734376-3a07-44c7-a497-e33b73b14413",
        "colab": {
          "base_uri": "https://localhost:8080/"
        }
      },
      "source": [
        "ninth_string = r\"A literal string with a \\n new line character printed raw\"\n",
        "\n",
        "print(ninth_string)"
      ],
      "execution_count": 6,
      "outputs": [
        {
          "output_type": "stream",
          "text": [
            "A literal string with a \\n new line character printed raw\n"
          ],
          "name": "stdout"
        }
      ]
    },
    {
      "cell_type": "markdown",
      "metadata": {
        "id": "-jDVqfaF3wAC"
      },
      "source": [
        "multi-line strings"
      ]
    },
    {
      "cell_type": "code",
      "metadata": {
        "id": "XZqr7yvJ3rZ9",
        "outputId": "9c57d5c7-5e4a-47b5-d666-f85eaf2050ac",
        "colab": {
          "base_uri": "https://localhost:8080/"
        }
      },
      "source": [
        "tenth_string = '''A literal string\n",
        "on more than one line\n",
        "sometimes known as a verbatim string'''\n",
        "\n",
        "eleventh_string = \"\"\"Another literal string\n",
        "     on more than one line\n",
        "using double quotes\"\"\"\n",
        "\n",
        "print(tenth_string)\n",
        "print(eleventh_string)"
      ],
      "execution_count": 7,
      "outputs": [
        {
          "output_type": "stream",
          "text": [
            "A literal string\n",
            "on more than one line\n",
            "sometimes known as a verbatim string\n",
            "Another literal string\n",
            "     on more than one line\n",
            "using double quotes\n"
          ],
          "name": "stdout"
        }
      ]
    },
    {
      "cell_type": "markdown",
      "metadata": {
        "id": "2D2KoxbZ33Ww"
      },
      "source": [
        "print() function"
      ]
    },
    {
      "cell_type": "code",
      "metadata": {
        "id": "lbFaVAnA3z8E",
        "outputId": "87943261-a76c-42f8-99ab-89ec674c7436",
        "colab": {
          "base_uri": "https://localhost:8080/"
        }
      },
      "source": [
        "first = 'Conrad'\n",
        "second = 'Grant'\n",
        "third = 'Bob'\n",
        "print(first, second)\n",
        "print(first, second, third)\n",
        "print(first, second, third, sep='-')\n",
        "print(first, second, third, sep='-', end='.')"
      ],
      "execution_count": 8,
      "outputs": [
        {
          "output_type": "stream",
          "text": [
            "Conrad Grant\n",
            "Conrad Grant Bob\n",
            "Conrad-Grant-Bob\n",
            "Conrad-Grant-Bob."
          ],
          "name": "stdout"
        }
      ]
    }
  ]
}