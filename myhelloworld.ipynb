{
  "nbformat": 4,
  "nbformat_minor": 0,
  "metadata": {
    "colab": {
      "name": "myhelloworld.ipynb",
      "provenance": [],
      "authorship_tag": "ABX9TyN6zvYumEPjSLIJQQJRtJcu",
      "include_colab_link": true
    },
    "kernelspec": {
      "name": "python3",
      "display_name": "Python 3"
    }
  },
  "cells": [
    {
      "cell_type": "markdown",
      "metadata": {
        "id": "view-in-github",
        "colab_type": "text"
      },
      "source": [
        "<a href=\"https://colab.research.google.com/github/nelslindahlx/Random-Notebooks/blob/master/myhelloworld.ipynb\" target=\"_parent\"><img src=\"https://colab.research.google.com/assets/colab-badge.svg\" alt=\"Open In Colab\"/></a>"
      ]
    },
    {
      "cell_type": "markdown",
      "metadata": {
        "id": "xGBdkQeSR_9T",
        "colab_type": "text"
      },
      "source": [
        "Basic hello world prompt"
      ]
    },
    {
      "cell_type": "code",
      "metadata": {
        "id": "AtKDLR0ZR2Zv",
        "colab_type": "code",
        "colab": {
          "base_uri": "https://localhost:8080/",
          "height": 67
        },
        "outputId": "8be34482-4fbd-4383-d730-d4fff186bfc2"
      },
      "source": [
        "print('Welcome to this program!')\n",
        "name = input('Enter your name for this prompt: ')\n",
        "print('Hello, ' + name)"
      ],
      "execution_count": 1,
      "outputs": [
        {
          "output_type": "stream",
          "text": [
            "Welcome to this program!\n",
            "Enter your name for this prompt: Nels\n",
            "Hello, Nels\n"
          ],
          "name": "stdout"
        }
      ]
    }
  ]
}