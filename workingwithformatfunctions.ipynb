{
  "nbformat": 4,
  "nbformat_minor": 0,
  "metadata": {
    "colab": {
      "name": "workingwithformatfunctions.ipynb",
      "provenance": [],
      "authorship_tag": "ABX9TyOJrLh52viKFTOkwQDdiCJV",
      "include_colab_link": true
    },
    "kernelspec": {
      "name": "python3",
      "display_name": "Python 3"
    }
  },
  "cells": [
    {
      "cell_type": "markdown",
      "metadata": {
        "id": "view-in-github",
        "colab_type": "text"
      },
      "source": [
        "<a href=\"https://colab.research.google.com/github/nelslindahlx/Random-Notebooks/blob/master/workingwithformatfunctions.ipynb\" target=\"_parent\"><img src=\"https://colab.research.google.com/assets/colab-badge.svg\" alt=\"Open In Colab\"/></a>"
      ]
    },
    {
      "cell_type": "markdown",
      "metadata": {
        "id": "1Jw-17uHOmyN"
      },
      "source": [
        "Just messing around with format functions"
      ]
    },
    {
      "cell_type": "code",
      "metadata": {
        "colab": {
          "base_uri": "https://localhost:8080/"
        },
        "id": "oAB8IuIFN8Jg",
        "outputId": "e2c80230-0155-4bb8-e1f0-5b89ceec975e"
      },
      "source": [
        "medicine = 'one fun tab'\n",
        "dosage = 42\n",
        "duration = 7\n",
        "\n",
        "instructions = '{} - Take {} ML by instruction on bottle every {} hours'.format(medicine, dosage, duration)\n",
        "print(instructions)\n",
        "\n",
        "instructions = '{2} - Take {1} ML by instruction on bottle every {0} hours'.format(medicine, dosage, duration)\n",
        "print(instructions)\n",
        "\n",
        "instructions = '{medicine} - Take {dosage} ML by instruction on bottle every {duration} hours'.format(medicine = medicine, dosage = 10, duration = 6)\n",
        "\n",
        "print(instructions)"
      ],
      "execution_count": 3,
      "outputs": [
        {
          "output_type": "stream",
          "text": [
            "one fun tab - Take 42 ML by instruction on bottle every 7 hours\n",
            "7 - Take 42 ML by instruction on bottle every one fun tab hours\n",
            "one fun tab - Take 10 ML by instruction on bottle every 6 hours\n"
          ],
          "name": "stdout"
        }
      ]
    }
  ]
}