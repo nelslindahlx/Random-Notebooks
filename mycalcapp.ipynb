{
  "nbformat": 4,
  "nbformat_minor": 0,
  "metadata": {
    "colab": {
      "name": "mycalcapp.ipynb",
      "provenance": [],
      "authorship_tag": "ABX9TyO9C+Ok7RlwcZeM5EHEw7/h",
      "include_colab_link": true
    },
    "kernelspec": {
      "name": "python3",
      "display_name": "Python 3"
    }
  },
  "cells": [
    {
      "cell_type": "markdown",
      "metadata": {
        "id": "view-in-github",
        "colab_type": "text"
      },
      "source": [
        "<a href=\"https://colab.research.google.com/github/nelslindahlx/Random-Notebooks/blob/master/mycalcapp.ipynb\" target=\"_parent\"><img src=\"https://colab.research.google.com/assets/colab-badge.svg\" alt=\"Open In Colab\"/></a>"
      ]
    },
    {
      "cell_type": "markdown",
      "metadata": {
        "id": "QhAqyUjITaZd",
        "colab_type": "text"
      },
      "source": [
        "This is just a basic calculator input in Python"
      ]
    },
    {
      "cell_type": "code",
      "metadata": {
        "id": "qboZZer-TA1q",
        "colab_type": "code",
        "colab": {
          "base_uri": "https://localhost:8080/",
          "height": 67
        },
        "outputId": "2b63ba59-9dcf-4136-89a9-86c7d6f02d4f"
      },
      "source": [
        "# This will read the first number\n",
        "x = int(input('Enter the first number to add: '))\n",
        "\n",
        "# This will get the second number\n",
        "y = int(input('Enter the second number to add: '))\n",
        "\n",
        "# This will add the numbers together\n",
        "result = x + y\n",
        "\n",
        "# This will display the results\n",
        "print(str(x) + \" + \" + str(y) + \" = \" + str(result))"
      ],
      "execution_count": 1,
      "outputs": [
        {
          "output_type": "stream",
          "text": [
            "Enter the first number to add: 3\n",
            "Enter the second number to add: 3\n",
            "3 + 3 = 6\n"
          ],
          "name": "stdout"
        }
      ]
    }
  ]
}