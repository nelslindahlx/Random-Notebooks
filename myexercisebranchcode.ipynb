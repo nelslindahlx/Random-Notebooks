{
  "nbformat": 4,
  "nbformat_minor": 0,
  "metadata": {
    "colab": {
      "name": "myexercisebranchcode.ipynb",
      "provenance": [],
      "authorship_tag": "ABX9TyO3ESm/OgUrHeOvUFdCf5zT",
      "include_colab_link": true
    },
    "kernelspec": {
      "name": "python3",
      "display_name": "Python 3"
    }
  },
  "cells": [
    {
      "cell_type": "markdown",
      "metadata": {
        "id": "view-in-github",
        "colab_type": "text"
      },
      "source": [
        "<a href=\"https://colab.research.google.com/github/nelslindahlx/Random-Notebooks/blob/master/myexercisebranchcode.ipynb\" target=\"_parent\"><img src=\"https://colab.research.google.com/assets/colab-badge.svg\" alt=\"Open In Colab\"/></a>"
      ]
    },
    {
      "cell_type": "markdown",
      "metadata": {
        "id": "bYFKk7V9bT6J"
      },
      "source": [
        "Messing around with if statements"
      ]
    },
    {
      "cell_type": "code",
      "metadata": {
        "id": "v0IesQuBa2hj",
        "outputId": "2dc75bd1-3527-4483-80bd-c3cfb4ab6494",
        "colab": {
          "base_uri": "https://localhost:8080/",
          "height": 50
        }
      },
      "source": [
        "value = '777'\n",
        "\n",
        "if value == '777':\n",
        "    print('The value is 777')\n",
        "\n",
        "print('Finished!')"
      ],
      "execution_count": 2,
      "outputs": [
        {
          "output_type": "stream",
          "text": [
            "The value is 777\n",
            "Finished!\n"
          ],
          "name": "stdout"
        }
      ]
    }
  ]
}