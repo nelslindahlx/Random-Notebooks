{
  "nbformat": 4,
  "nbformat_minor": 0,
  "metadata": {
    "colab": {
      "name": "myexercisebranchcode.ipynb",
      "provenance": [],
      "authorship_tag": "ABX9TyMeJXAmG1n4vigZa2nAWTpi",
      "include_colab_link": true
    },
    "kernelspec": {
      "name": "python3",
      "display_name": "Python 3"
    }
  },
  "cells": [
    {
      "cell_type": "markdown",
      "metadata": {
        "id": "view-in-github",
        "colab_type": "text"
      },
      "source": [
        "<a href=\"https://colab.research.google.com/github/nelslindahlx/Random-Notebooks/blob/master/myexercisebranchcode.ipynb\" target=\"_parent\"><img src=\"https://colab.research.google.com/assets/colab-badge.svg\" alt=\"Open In Colab\"/></a>"
      ]
    },
    {
      "cell_type": "markdown",
      "metadata": {
        "id": "bYFKk7V9bT6J"
      },
      "source": [
        "Messing around with if statements"
      ]
    },
    {
      "cell_type": "code",
      "metadata": {
        "id": "v0IesQuBa2hj",
        "outputId": "2dc75bd1-3527-4483-80bd-c3cfb4ab6494",
        "colab": {
          "base_uri": "https://localhost:8080/",
          "height": 50
        }
      },
      "source": [
        "value = '777'\n",
        "\n",
        "if value == '777':\n",
        "    print('The value is 777')\n",
        "\n",
        "print('Finished!')"
      ],
      "execution_count": 2,
      "outputs": [
        {
          "output_type": "stream",
          "text": [
            "The value is 777\n",
            "Finished!\n"
          ],
          "name": "stdout"
        }
      ]
    },
    {
      "cell_type": "markdown",
      "metadata": {
        "id": "QQjWB5f3bumJ"
      },
      "source": [
        "Messing around with adding an else statement"
      ]
    },
    {
      "cell_type": "code",
      "metadata": {
        "id": "NW1grSGxbyZM",
        "outputId": "7a998757-6907-473a-9cb4-9f2136c14475",
        "colab": {
          "base_uri": "https://localhost:8080/",
          "height": 50
        }
      },
      "source": [
        "value = '777'\n",
        "\n",
        "if value == '888':\n",
        "    print('The value is 888')\n",
        "else:\n",
        "    print('The value is not 888') \n",
        "\n",
        "print('Finished!')"
      ],
      "execution_count": 3,
      "outputs": [
        {
          "output_type": "stream",
          "text": [
            "The value is not 888\n",
            "Finished!\n"
          ],
          "name": "stdout"
        }
      ]
    },
    {
      "cell_type": "markdown",
      "metadata": {
        "id": "M5onwgYOb8j8"
      },
      "source": [
        "Messing around with the elif statment"
      ]
    },
    {
      "cell_type": "code",
      "metadata": {
        "id": "x9ZWhg9TcAhD",
        "outputId": "dc5a0c01-cda0-49c5-e1e9-aad46cb2440a",
        "colab": {
          "base_uri": "https://localhost:8080/",
          "height": 50
        }
      },
      "source": [
        "value = '777'\n",
        "\n",
        "if value == '888':\n",
        "    print('The value is 888')\n",
        "elif value == '999':\n",
        "    print('The value is 999')\n",
        "else:\n",
        "    print('The value is not one we''re looking for')\n",
        "\n",
        "print('Finished!')"
      ],
      "execution_count": 4,
      "outputs": [
        {
          "output_type": "stream",
          "text": [
            "The value is not one were looking for\n",
            "Finished!\n"
          ],
          "name": "stdout"
        }
      ]
    },
    {
      "cell_type": "markdown",
      "metadata": {
        "id": "ecHcJ5vkcQTm"
      },
      "source": [
        "Messing around with Boolean expressions"
      ]
    },
    {
      "cell_type": "code",
      "metadata": {
        "id": "5C2FDvXcceOI",
        "outputId": "4f0bcf7f-d472-489b-c2a5-cb182179172e",
        "colab": {
          "base_uri": "https://localhost:8080/",
          "height": 34
        }
      },
      "source": [
        "value = '777'\n",
        "\n",
        "if value < '888':\n",
        "    print('The value is less than 888')\n",
        "elif value < '555':\n",
        "    print('The value is less than 555')\n",
        "else:\n",
        "    print('The value is greater than 888')"
      ],
      "execution_count": 5,
      "outputs": [
        {
          "output_type": "stream",
          "text": [
            "The value is less than 888\n"
          ],
          "name": "stdout"
        }
      ]
    },
    {
      "cell_type": "markdown",
      "metadata": {
        "id": "XxvJy3Pzcet-"
      },
      "source": [
        ""
      ]
    }
  ]
}